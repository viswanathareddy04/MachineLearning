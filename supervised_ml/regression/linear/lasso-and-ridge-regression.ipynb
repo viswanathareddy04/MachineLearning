{
 "cells": [
  {
   "cell_type": "markdown",
   "id": "7fcce104",
   "metadata": {
    "id": "5f9efaf6",
    "papermill": {
     "duration": 0.013751,
     "end_time": "2022-11-30T23:25:58.437156",
     "exception": false,
     "start_time": "2022-11-30T23:25:58.423405",
     "status": "completed"
    },
    "tags": []
   },
   "source": [
    "# Lasso and Ridge Regression"
   ]
  },
  {
   "cell_type": "code",
   "execution_count": 1,
   "id": "b701c9aa",
   "metadata": {
    "execution": {
     "iopub.execute_input": "2022-11-30T23:25:58.458016Z",
     "iopub.status.busy": "2022-11-30T23:25:58.457382Z",
     "iopub.status.idle": "2022-11-30T23:25:59.940431Z",
     "shell.execute_reply": "2022-11-30T23:25:59.938497Z"
    },
    "id": "2634988c",
    "papermill": {
     "duration": 1.499068,
     "end_time": "2022-11-30T23:25:59.945627",
     "exception": false,
     "start_time": "2022-11-30T23:25:58.446559",
     "status": "completed"
    },
    "tags": []
   },
   "outputs": [],
   "source": [
    "import pandas as pd\n",
    "import numpy as np\n",
    "import matplotlib.pyplot as plt\n",
    "import seaborn as sns\n",
    "\n",
    "\n",
    "from sklearn.model_selection import train_test_split\n",
    "from sklearn.linear_model import LinearRegression, Lasso, Ridge\n",
    "from sklearn.preprocessing import StandardScaler\n",
    "from sklearn.model_selection import GridSearchCV\n",
    "from sklearn import metrics"
   ]
  },
  {
   "cell_type": "code",
   "execution_count": 2,
   "id": "7afcdf28",
   "metadata": {
    "execution": {
     "iopub.execute_input": "2022-11-30T23:25:59.968265Z",
     "iopub.status.busy": "2022-11-30T23:25:59.966546Z",
     "iopub.status.idle": "2022-11-30T23:26:00.025656Z",
     "shell.execute_reply": "2022-11-30T23:26:00.024371Z"
    },
    "id": "58c92cc8",
    "outputId": "7aa96176-2f21-411c-cc00-c7bd74351cb9",
    "papermill": {
     "duration": 0.077228,
     "end_time": "2022-11-30T23:26:00.031875",
     "exception": false,
     "start_time": "2022-11-30T23:25:59.954647",
     "status": "completed"
    },
    "tags": []
   },
   "outputs": [
    {
     "data": {
      "text/html": [
       "<div>\n",
       "<style scoped>\n",
       "    .dataframe tbody tr th:only-of-type {\n",
       "        vertical-align: middle;\n",
       "    }\n",
       "\n",
       "    .dataframe tbody tr th {\n",
       "        vertical-align: top;\n",
       "    }\n",
       "\n",
       "    .dataframe thead th {\n",
       "        text-align: right;\n",
       "    }\n",
       "</style>\n",
       "<table border=\"1\" class=\"dataframe\">\n",
       "  <thead>\n",
       "    <tr style=\"text-align: right;\">\n",
       "      <th></th>\n",
       "      <th>case</th>\n",
       "      <th>site</th>\n",
       "      <th>Pop</th>\n",
       "      <th>sex</th>\n",
       "      <th>age</th>\n",
       "      <th>hdlngth</th>\n",
       "      <th>skullw</th>\n",
       "      <th>totlngth</th>\n",
       "      <th>taill</th>\n",
       "      <th>footlgth</th>\n",
       "      <th>earconch</th>\n",
       "      <th>eye</th>\n",
       "      <th>chest</th>\n",
       "      <th>belly</th>\n",
       "    </tr>\n",
       "  </thead>\n",
       "  <tbody>\n",
       "    <tr>\n",
       "      <th>0</th>\n",
       "      <td>1</td>\n",
       "      <td>1</td>\n",
       "      <td>Vic</td>\n",
       "      <td>m</td>\n",
       "      <td>8.0</td>\n",
       "      <td>94.1</td>\n",
       "      <td>60.4</td>\n",
       "      <td>89.0</td>\n",
       "      <td>36.0</td>\n",
       "      <td>74.5</td>\n",
       "      <td>54.5</td>\n",
       "      <td>15.2</td>\n",
       "      <td>28.0</td>\n",
       "      <td>36.0</td>\n",
       "    </tr>\n",
       "    <tr>\n",
       "      <th>1</th>\n",
       "      <td>2</td>\n",
       "      <td>1</td>\n",
       "      <td>Vic</td>\n",
       "      <td>f</td>\n",
       "      <td>6.0</td>\n",
       "      <td>92.5</td>\n",
       "      <td>57.6</td>\n",
       "      <td>91.5</td>\n",
       "      <td>36.5</td>\n",
       "      <td>72.5</td>\n",
       "      <td>51.2</td>\n",
       "      <td>16.0</td>\n",
       "      <td>28.5</td>\n",
       "      <td>33.0</td>\n",
       "    </tr>\n",
       "    <tr>\n",
       "      <th>2</th>\n",
       "      <td>3</td>\n",
       "      <td>1</td>\n",
       "      <td>Vic</td>\n",
       "      <td>f</td>\n",
       "      <td>6.0</td>\n",
       "      <td>94.0</td>\n",
       "      <td>60.0</td>\n",
       "      <td>95.5</td>\n",
       "      <td>39.0</td>\n",
       "      <td>75.4</td>\n",
       "      <td>51.9</td>\n",
       "      <td>15.5</td>\n",
       "      <td>30.0</td>\n",
       "      <td>34.0</td>\n",
       "    </tr>\n",
       "    <tr>\n",
       "      <th>3</th>\n",
       "      <td>4</td>\n",
       "      <td>1</td>\n",
       "      <td>Vic</td>\n",
       "      <td>f</td>\n",
       "      <td>6.0</td>\n",
       "      <td>93.2</td>\n",
       "      <td>57.1</td>\n",
       "      <td>92.0</td>\n",
       "      <td>38.0</td>\n",
       "      <td>76.1</td>\n",
       "      <td>52.2</td>\n",
       "      <td>15.2</td>\n",
       "      <td>28.0</td>\n",
       "      <td>34.0</td>\n",
       "    </tr>\n",
       "    <tr>\n",
       "      <th>4</th>\n",
       "      <td>5</td>\n",
       "      <td>1</td>\n",
       "      <td>Vic</td>\n",
       "      <td>f</td>\n",
       "      <td>2.0</td>\n",
       "      <td>91.5</td>\n",
       "      <td>56.3</td>\n",
       "      <td>85.5</td>\n",
       "      <td>36.0</td>\n",
       "      <td>71.0</td>\n",
       "      <td>53.2</td>\n",
       "      <td>15.1</td>\n",
       "      <td>28.5</td>\n",
       "      <td>33.0</td>\n",
       "    </tr>\n",
       "  </tbody>\n",
       "</table>\n",
       "</div>"
      ],
      "text/plain": [
       "   case  site  Pop sex  age  hdlngth  skullw  totlngth  taill  footlgth  \\\n",
       "0     1     1  Vic   m  8.0     94.1    60.4      89.0   36.0      74.5   \n",
       "1     2     1  Vic   f  6.0     92.5    57.6      91.5   36.5      72.5   \n",
       "2     3     1  Vic   f  6.0     94.0    60.0      95.5   39.0      75.4   \n",
       "3     4     1  Vic   f  6.0     93.2    57.1      92.0   38.0      76.1   \n",
       "4     5     1  Vic   f  2.0     91.5    56.3      85.5   36.0      71.0   \n",
       "\n",
       "   earconch   eye  chest  belly  \n",
       "0      54.5  15.2   28.0   36.0  \n",
       "1      51.2  16.0   28.5   33.0  \n",
       "2      51.9  15.5   30.0   34.0  \n",
       "3      52.2  15.2   28.0   34.0  \n",
       "4      53.2  15.1   28.5   33.0  "
      ]
     },
     "execution_count": 2,
     "metadata": {},
     "output_type": "execute_result"
    }
   ],
   "source": [
    "dataset = pd.read_csv('/kaggle/input/openintro-possum/possum.csv')\n",
    "dataset.head()"
   ]
  },
  {
   "cell_type": "code",
   "execution_count": 3,
   "id": "deeab6f1",
   "metadata": {
    "execution": {
     "iopub.execute_input": "2022-11-30T23:26:00.057346Z",
     "iopub.status.busy": "2022-11-30T23:26:00.056859Z",
     "iopub.status.idle": "2022-11-30T23:26:00.086010Z",
     "shell.execute_reply": "2022-11-30T23:26:00.083843Z"
    },
    "id": "4befc39c",
    "outputId": "f4b380fa-4851-45a0-ffda-fdff7c222a15",
    "papermill": {
     "duration": 0.045386,
     "end_time": "2022-11-30T23:26:00.091206",
     "exception": false,
     "start_time": "2022-11-30T23:26:00.045820",
     "status": "completed"
    },
    "tags": []
   },
   "outputs": [
    {
     "name": "stdout",
     "output_type": "stream",
     "text": [
      "<class 'pandas.core.frame.DataFrame'>\n",
      "RangeIndex: 104 entries, 0 to 103\n",
      "Data columns (total 14 columns):\n",
      " #   Column    Non-Null Count  Dtype  \n",
      "---  ------    --------------  -----  \n",
      " 0   case      104 non-null    int64  \n",
      " 1   site      104 non-null    int64  \n",
      " 2   Pop       104 non-null    object \n",
      " 3   sex       104 non-null    object \n",
      " 4   age       102 non-null    float64\n",
      " 5   hdlngth   104 non-null    float64\n",
      " 6   skullw    104 non-null    float64\n",
      " 7   totlngth  104 non-null    float64\n",
      " 8   taill     104 non-null    float64\n",
      " 9   footlgth  103 non-null    float64\n",
      " 10  earconch  104 non-null    float64\n",
      " 11  eye       104 non-null    float64\n",
      " 12  chest     104 non-null    float64\n",
      " 13  belly     104 non-null    float64\n",
      "dtypes: float64(10), int64(2), object(2)\n",
      "memory usage: 11.5+ KB\n"
     ]
    }
   ],
   "source": [
    "dataset.info()"
   ]
  },
  {
   "cell_type": "code",
   "execution_count": 4,
   "id": "e0f09651",
   "metadata": {
    "execution": {
     "iopub.execute_input": "2022-11-30T23:26:00.115957Z",
     "iopub.status.busy": "2022-11-30T23:26:00.114752Z",
     "iopub.status.idle": "2022-11-30T23:26:01.049623Z",
     "shell.execute_reply": "2022-11-30T23:26:01.048630Z"
    },
    "id": "e0d82d98",
    "outputId": "0f714cb6-930f-4a82-8aa3-959630615336",
    "papermill": {
     "duration": 0.949563,
     "end_time": "2022-11-30T23:26:01.053156",
     "exception": false,
     "start_time": "2022-11-30T23:26:00.103593",
     "status": "completed"
    },
    "tags": []
   },
   "outputs": [
    {
     "data": {
      "image/png": "[encoded data removed]",
      "text/plain": [
       "<Figure size 720x720 with 2 Axes>"
      ]
     },
     "metadata": {
      "needs_background": "light"
     },
     "output_type": "display_data"
    }
   ],
   "source": [
    "plt.figure(figsize=(10,10))\n",
    "sns.heatmap(dataset.corr(), annot=True)\n",
    "plt.show()"
   ]
  },
  {
   "cell_type": "code",
   "execution_count": 5,
   "id": "970bc1e1",
   "metadata": {
    "execution": {
     "iopub.execute_input": "2022-11-30T23:26:01.077709Z",
     "iopub.status.busy": "2022-11-30T23:26:01.076860Z",
     "iopub.status.idle": "2022-11-30T23:26:01.086745Z",
     "shell.execute_reply": "2022-11-30T23:26:01.085523Z"
    },
    "id": "08cfa7ef",
    "outputId": "c6b0a3bd-f04e-4ed4-f12f-dae572d12f13",
    "papermill": {
     "duration": 0.025198,
     "end_time": "2022-11-30T23:26:01.089432",
     "exception": false,
     "start_time": "2022-11-30T23:26:01.064234",
     "status": "completed"
    },
    "tags": []
   },
   "outputs": [
    {
     "data": {
      "text/plain": [
       "case        0\n",
       "site        0\n",
       "Pop         0\n",
       "sex         0\n",
       "age         2\n",
       "hdlngth     0\n",
       "skullw      0\n",
       "totlngth    0\n",
       "taill       0\n",
       "footlgth    1\n",
       "earconch    0\n",
       "eye         0\n",
       "chest       0\n",
       "belly       0\n",
       "dtype: int64"
      ]
     },
     "execution_count": 5,
     "metadata": {},
     "output_type": "execute_result"
    }
   ],
   "source": [
    "dataset.isnull().sum()"
   ]
  },
  {
   "cell_type": "markdown",
   "id": "d5a9ba8c",
   "metadata": {
    "id": "3fff6d23",
    "papermill": {
     "duration": 0.010644,
     "end_time": "2022-11-30T23:26:01.111710",
     "exception": false,
     "start_time": "2022-11-30T23:26:01.101066",
     "status": "completed"
    },
    "tags": []
   },
   "source": [
    "**Missing Value Treatment**"
   ]
  },
  {
   "cell_type": "code",
   "execution_count": 6,
   "id": "f1899d37",
   "metadata": {
    "execution": {
     "iopub.execute_input": "2022-11-30T23:26:01.135613Z",
     "iopub.status.busy": "2022-11-30T23:26:01.135093Z",
     "iopub.status.idle": "2022-11-30T23:26:01.145184Z",
     "shell.execute_reply": "2022-11-30T23:26:01.143844Z"
    },
    "id": "345ddb42",
    "outputId": "65975ae1-44f1-46b8-e912-48f4efe7f179",
    "papermill": {
     "duration": 0.024821,
     "end_time": "2022-11-30T23:26:01.147555",
     "exception": false,
     "start_time": "2022-11-30T23:26:01.122734",
     "status": "completed"
    },
    "tags": []
   },
   "outputs": [
    {
     "data": {
      "text/plain": [
       "0"
      ]
     },
     "execution_count": 6,
     "metadata": {},
     "output_type": "execute_result"
    }
   ],
   "source": [
    "dataset['age'] = dataset['age'].fillna(dataset.age.mean())\n",
    "dataset.age.isnull().sum()"
   ]
  },
  {
   "cell_type": "code",
   "execution_count": 7,
   "id": "a1ca1823",
   "metadata": {
    "execution": {
     "iopub.execute_input": "2022-11-30T23:26:01.172163Z",
     "iopub.status.busy": "2022-11-30T23:26:01.171359Z",
     "iopub.status.idle": "2022-11-30T23:26:01.180010Z",
     "shell.execute_reply": "2022-11-30T23:26:01.178953Z"
    },
    "id": "03b43131",
    "outputId": "beb37e11-2f43-4431-d1ed-7f2305537b60",
    "papermill": {
     "duration": 0.024146,
     "end_time": "2022-11-30T23:26:01.182642",
     "exception": false,
     "start_time": "2022-11-30T23:26:01.158496",
     "status": "completed"
    },
    "tags": []
   },
   "outputs": [
    {
     "data": {
      "text/plain": [
       "0"
      ]
     },
     "execution_count": 7,
     "metadata": {},
     "output_type": "execute_result"
    }
   ],
   "source": [
    "dataset['footlgth'] = dataset['footlgth'].fillna(dataset.footlgth.mean())\n",
    "dataset.footlgth.isnull().sum()"
   ]
  },
  {
   "cell_type": "code",
   "execution_count": 8,
   "id": "bc764ee3",
   "metadata": {
    "execution": {
     "iopub.execute_input": "2022-11-30T23:26:01.208007Z",
     "iopub.status.busy": "2022-11-30T23:26:01.207154Z",
     "iopub.status.idle": "2022-11-30T23:26:01.217891Z",
     "shell.execute_reply": "2022-11-30T23:26:01.216664Z"
    },
    "id": "5bde24e8",
    "outputId": "d093a22c-c315-4c5b-b6c8-bae2b864309d",
    "papermill": {
     "duration": 0.025834,
     "end_time": "2022-11-30T23:26:01.220165",
     "exception": false,
     "start_time": "2022-11-30T23:26:01.194331",
     "status": "completed"
    },
    "tags": []
   },
   "outputs": [
    {
     "data": {
      "text/plain": [
       "case        0\n",
       "site        0\n",
       "Pop         0\n",
       "sex         0\n",
       "age         0\n",
       "hdlngth     0\n",
       "skullw      0\n",
       "totlngth    0\n",
       "taill       0\n",
       "footlgth    0\n",
       "earconch    0\n",
       "eye         0\n",
       "chest       0\n",
       "belly       0\n",
       "dtype: int64"
      ]
     },
     "execution_count": 8,
     "metadata": {},
     "output_type": "execute_result"
    }
   ],
   "source": [
    "dataset.isnull().sum()"
   ]
  },
  {
   "cell_type": "markdown",
   "id": "369881a6",
   "metadata": {
    "id": "31c45a25",
    "papermill": {
     "duration": 0.010706,
     "end_time": "2022-11-30T23:26:01.241971",
     "exception": false,
     "start_time": "2022-11-30T23:26:01.231265",
     "status": "completed"
    },
    "tags": []
   },
   "source": [
    "**Remove columns that are not needed for further analysis**"
   ]
  },
  {
   "cell_type": "code",
   "execution_count": 9,
   "id": "8bdc0948",
   "metadata": {
    "execution": {
     "iopub.execute_input": "2022-11-30T23:26:01.266216Z",
     "iopub.status.busy": "2022-11-30T23:26:01.265713Z",
     "iopub.status.idle": "2022-11-30T23:26:01.273772Z",
     "shell.execute_reply": "2022-11-30T23:26:01.272494Z"
    },
    "id": "5d7c5923",
    "papermill": {
     "duration": 0.023296,
     "end_time": "2022-11-30T23:26:01.276278",
     "exception": false,
     "start_time": "2022-11-30T23:26:01.252982",
     "status": "completed"
    },
    "tags": []
   },
   "outputs": [],
   "source": [
    "dataset.drop(labels=['Pop', 'sex'] , axis=1 , inplace=True)"
   ]
  },
  {
   "cell_type": "code",
   "execution_count": 10,
   "id": "e55c2e1a",
   "metadata": {
    "execution": {
     "iopub.execute_input": "2022-11-30T23:26:01.301791Z",
     "iopub.status.busy": "2022-11-30T23:26:01.300516Z",
     "iopub.status.idle": "2022-11-30T23:26:01.308626Z",
     "shell.execute_reply": "2022-11-30T23:26:01.307443Z"
    },
    "id": "3d9b9194",
    "papermill": {
     "duration": 0.024074,
     "end_time": "2022-11-30T23:26:01.311488",
     "exception": false,
     "start_time": "2022-11-30T23:26:01.287414",
     "status": "completed"
    },
    "tags": []
   },
   "outputs": [],
   "source": [
    "X = dataset.drop(labels=['totlngth'], axis=1)\n",
    "y = dataset['totlngth']"
   ]
  },
  {
   "cell_type": "code",
   "execution_count": 11,
   "id": "51e52b23",
   "metadata": {
    "execution": {
     "iopub.execute_input": "2022-11-30T23:26:01.338759Z",
     "iopub.status.busy": "2022-11-30T23:26:01.337122Z",
     "iopub.status.idle": "2022-11-30T23:26:01.346114Z",
     "shell.execute_reply": "2022-11-30T23:26:01.344847Z"
    },
    "id": "dfc0c541",
    "outputId": "17573df6-595f-4dca-93b2-3550e8e2ca38",
    "papermill": {
     "duration": 0.025261,
     "end_time": "2022-11-30T23:26:01.348515",
     "exception": false,
     "start_time": "2022-11-30T23:26:01.323254",
     "status": "completed"
    },
    "tags": []
   },
   "outputs": [
    {
     "data": {
      "text/plain": [
       "(104, 11)"
      ]
     },
     "execution_count": 11,
     "metadata": {},
     "output_type": "execute_result"
    }
   ],
   "source": [
    "X.shape"
   ]
  },
  {
   "cell_type": "code",
   "execution_count": 12,
   "id": "19ddaf80",
   "metadata": {
    "execution": {
     "iopub.execute_input": "2022-11-30T23:26:01.374258Z",
     "iopub.status.busy": "2022-11-30T23:26:01.373427Z",
     "iopub.status.idle": "2022-11-30T23:26:01.381314Z",
     "shell.execute_reply": "2022-11-30T23:26:01.380083Z"
    },
    "id": "b54b8770",
    "outputId": "0a0825f5-6c06-4a7c-ec4c-73ab9fabde7e",
    "papermill": {
     "duration": 0.024004,
     "end_time": "2022-11-30T23:26:01.383929",
     "exception": false,
     "start_time": "2022-11-30T23:26:01.359925",
     "status": "completed"
    },
    "tags": []
   },
   "outputs": [
    {
     "data": {
      "text/plain": [
       "(104,)"
      ]
     },
     "execution_count": 12,
     "metadata": {},
     "output_type": "execute_result"
    }
   ],
   "source": [
    "y.shape"
   ]
  },
  {
   "cell_type": "code",
   "execution_count": 13,
   "id": "51d86fd6",
   "metadata": {
    "execution": {
     "iopub.execute_input": "2022-11-30T23:26:01.410078Z",
     "iopub.status.busy": "2022-11-30T23:26:01.409274Z",
     "iopub.status.idle": "2022-11-30T23:26:01.433913Z",
     "shell.execute_reply": "2022-11-30T23:26:01.432938Z"
    },
    "id": "c105afc1",
    "outputId": "0d949b8a-4c33-4f8d-a889-a71dfbc3a06d",
    "papermill": {
     "duration": 0.040722,
     "end_time": "2022-11-30T23:26:01.436694",
     "exception": false,
     "start_time": "2022-11-30T23:26:01.395972",
     "status": "completed"
    },
    "tags": []
   },
   "outputs": [
    {
     "data": {
      "text/html": [
       "<div>\n",
       "<style scoped>\n",
       "    .dataframe tbody tr th:only-of-type {\n",
       "        vertical-align: middle;\n",
       "    }\n",
       "\n",
       "    .dataframe tbody tr th {\n",
       "        vertical-align: top;\n",
       "    }\n",
       "\n",
       "    .dataframe thead th {\n",
       "        text-align: right;\n",
       "    }\n",
       "</style>\n",
       "<table border=\"1\" class=\"dataframe\">\n",
       "  <thead>\n",
       "    <tr style=\"text-align: right;\">\n",
       "      <th></th>\n",
       "      <th>case</th>\n",
       "      <th>site</th>\n",
       "      <th>age</th>\n",
       "      <th>hdlngth</th>\n",
       "      <th>skullw</th>\n",
       "      <th>taill</th>\n",
       "      <th>footlgth</th>\n",
       "      <th>earconch</th>\n",
       "      <th>eye</th>\n",
       "      <th>chest</th>\n",
       "      <th>belly</th>\n",
       "    </tr>\n",
       "  </thead>\n",
       "  <tbody>\n",
       "    <tr>\n",
       "      <th>0</th>\n",
       "      <td>1</td>\n",
       "      <td>1</td>\n",
       "      <td>8.0</td>\n",
       "      <td>94.1</td>\n",
       "      <td>60.4</td>\n",
       "      <td>36.0</td>\n",
       "      <td>74.5</td>\n",
       "      <td>54.5</td>\n",
       "      <td>15.2</td>\n",
       "      <td>28.0</td>\n",
       "      <td>36.0</td>\n",
       "    </tr>\n",
       "    <tr>\n",
       "      <th>1</th>\n",
       "      <td>2</td>\n",
       "      <td>1</td>\n",
       "      <td>6.0</td>\n",
       "      <td>92.5</td>\n",
       "      <td>57.6</td>\n",
       "      <td>36.5</td>\n",
       "      <td>72.5</td>\n",
       "      <td>51.2</td>\n",
       "      <td>16.0</td>\n",
       "      <td>28.5</td>\n",
       "      <td>33.0</td>\n",
       "    </tr>\n",
       "    <tr>\n",
       "      <th>2</th>\n",
       "      <td>3</td>\n",
       "      <td>1</td>\n",
       "      <td>6.0</td>\n",
       "      <td>94.0</td>\n",
       "      <td>60.0</td>\n",
       "      <td>39.0</td>\n",
       "      <td>75.4</td>\n",
       "      <td>51.9</td>\n",
       "      <td>15.5</td>\n",
       "      <td>30.0</td>\n",
       "      <td>34.0</td>\n",
       "    </tr>\n",
       "    <tr>\n",
       "      <th>3</th>\n",
       "      <td>4</td>\n",
       "      <td>1</td>\n",
       "      <td>6.0</td>\n",
       "      <td>93.2</td>\n",
       "      <td>57.1</td>\n",
       "      <td>38.0</td>\n",
       "      <td>76.1</td>\n",
       "      <td>52.2</td>\n",
       "      <td>15.2</td>\n",
       "      <td>28.0</td>\n",
       "      <td>34.0</td>\n",
       "    </tr>\n",
       "    <tr>\n",
       "      <th>4</th>\n",
       "      <td>5</td>\n",
       "      <td>1</td>\n",
       "      <td>2.0</td>\n",
       "      <td>91.5</td>\n",
       "      <td>56.3</td>\n",
       "      <td>36.0</td>\n",
       "      <td>71.0</td>\n",
       "      <td>53.2</td>\n",
       "      <td>15.1</td>\n",
       "      <td>28.5</td>\n",
       "      <td>33.0</td>\n",
       "    </tr>\n",
       "    <tr>\n",
       "      <th>...</th>\n",
       "      <td>...</td>\n",
       "      <td>...</td>\n",
       "      <td>...</td>\n",
       "      <td>...</td>\n",
       "      <td>...</td>\n",
       "      <td>...</td>\n",
       "      <td>...</td>\n",
       "      <td>...</td>\n",
       "      <td>...</td>\n",
       "      <td>...</td>\n",
       "      <td>...</td>\n",
       "    </tr>\n",
       "    <tr>\n",
       "      <th>99</th>\n",
       "      <td>100</td>\n",
       "      <td>7</td>\n",
       "      <td>1.0</td>\n",
       "      <td>89.5</td>\n",
       "      <td>56.0</td>\n",
       "      <td>36.5</td>\n",
       "      <td>66.0</td>\n",
       "      <td>46.8</td>\n",
       "      <td>14.8</td>\n",
       "      <td>23.0</td>\n",
       "      <td>27.0</td>\n",
       "    </tr>\n",
       "    <tr>\n",
       "      <th>100</th>\n",
       "      <td>101</td>\n",
       "      <td>7</td>\n",
       "      <td>1.0</td>\n",
       "      <td>88.6</td>\n",
       "      <td>54.7</td>\n",
       "      <td>39.0</td>\n",
       "      <td>64.4</td>\n",
       "      <td>48.0</td>\n",
       "      <td>14.0</td>\n",
       "      <td>25.0</td>\n",
       "      <td>33.0</td>\n",
       "    </tr>\n",
       "    <tr>\n",
       "      <th>101</th>\n",
       "      <td>102</td>\n",
       "      <td>7</td>\n",
       "      <td>6.0</td>\n",
       "      <td>92.4</td>\n",
       "      <td>55.0</td>\n",
       "      <td>38.0</td>\n",
       "      <td>63.5</td>\n",
       "      <td>45.4</td>\n",
       "      <td>13.0</td>\n",
       "      <td>25.0</td>\n",
       "      <td>30.0</td>\n",
       "    </tr>\n",
       "    <tr>\n",
       "      <th>102</th>\n",
       "      <td>103</td>\n",
       "      <td>7</td>\n",
       "      <td>4.0</td>\n",
       "      <td>91.5</td>\n",
       "      <td>55.2</td>\n",
       "      <td>36.5</td>\n",
       "      <td>62.9</td>\n",
       "      <td>45.9</td>\n",
       "      <td>15.4</td>\n",
       "      <td>25.0</td>\n",
       "      <td>29.0</td>\n",
       "    </tr>\n",
       "    <tr>\n",
       "      <th>103</th>\n",
       "      <td>104</td>\n",
       "      <td>7</td>\n",
       "      <td>3.0</td>\n",
       "      <td>93.6</td>\n",
       "      <td>59.9</td>\n",
       "      <td>40.0</td>\n",
       "      <td>67.6</td>\n",
       "      <td>46.0</td>\n",
       "      <td>14.8</td>\n",
       "      <td>28.5</td>\n",
       "      <td>33.5</td>\n",
       "    </tr>\n",
       "  </tbody>\n",
       "</table>\n",
       "<p>104 rows × 11 columns</p>\n",
       "</div>"
      ],
      "text/plain": [
       "     case  site  age  hdlngth  skullw  taill  footlgth  earconch   eye  chest  \\\n",
       "0       1     1  8.0     94.1    60.4   36.0      74.5      54.5  15.2   28.0   \n",
       "1       2     1  6.0     92.5    57.6   36.5      72.5      51.2  16.0   28.5   \n",
       "2       3     1  6.0     94.0    60.0   39.0      75.4      51.9  15.5   30.0   \n",
       "3       4     1  6.0     93.2    57.1   38.0      76.1      52.2  15.2   28.0   \n",
       "4       5     1  2.0     91.5    56.3   36.0      71.0      53.2  15.1   28.5   \n",
       "..    ...   ...  ...      ...     ...    ...       ...       ...   ...    ...   \n",
       "99    100     7  1.0     89.5    56.0   36.5      66.0      46.8  14.8   23.0   \n",
       "100   101     7  1.0     88.6    54.7   39.0      64.4      48.0  14.0   25.0   \n",
       "101   102     7  6.0     92.4    55.0   38.0      63.5      45.4  13.0   25.0   \n",
       "102   103     7  4.0     91.5    55.2   36.5      62.9      45.9  15.4   25.0   \n",
       "103   104     7  3.0     93.6    59.9   40.0      67.6      46.0  14.8   28.5   \n",
       "\n",
       "     belly  \n",
       "0     36.0  \n",
       "1     33.0  \n",
       "2     34.0  \n",
       "3     34.0  \n",
       "4     33.0  \n",
       "..     ...  \n",
       "99    27.0  \n",
       "100   33.0  \n",
       "101   30.0  \n",
       "102   29.0  \n",
       "103   33.5  \n",
       "\n",
       "[104 rows x 11 columns]"
      ]
     },
     "execution_count": 13,
     "metadata": {},
     "output_type": "execute_result"
    }
   ],
   "source": [
    "X"
   ]
  },
  {
   "cell_type": "code",
   "execution_count": 14,
   "id": "133a337e",
   "metadata": {
    "execution": {
     "iopub.execute_input": "2022-11-30T23:26:01.463915Z",
     "iopub.status.busy": "2022-11-30T23:26:01.463173Z",
     "iopub.status.idle": "2022-11-30T23:26:01.473104Z",
     "shell.execute_reply": "2022-11-30T23:26:01.471732Z"
    },
    "id": "cf93c9f7",
    "outputId": "7a09a588-280e-4444-e504-62e629f65275",
    "papermill": {
     "duration": 0.026663,
     "end_time": "2022-11-30T23:26:01.475501",
     "exception": false,
     "start_time": "2022-11-30T23:26:01.448838",
     "status": "completed"
    },
    "tags": []
   },
   "outputs": [
    {
     "data": {
      "text/plain": [
       "0      89.0\n",
       "1      91.5\n",
       "2      95.5\n",
       "3      92.0\n",
       "4      85.5\n",
       "       ... \n",
       "99     81.5\n",
       "100    82.5\n",
       "101    89.0\n",
       "102    82.5\n",
       "103    89.0\n",
       "Name: totlngth, Length: 104, dtype: float64"
      ]
     },
     "execution_count": 14,
     "metadata": {},
     "output_type": "execute_result"
    }
   ],
   "source": [
    "y"
   ]
  },
  {
   "cell_type": "markdown",
   "id": "70827808",
   "metadata": {
    "id": "2a8036e6",
    "papermill": {
     "duration": 0.0122,
     "end_time": "2022-11-30T23:26:01.500522",
     "exception": false,
     "start_time": "2022-11-30T23:26:01.488322",
     "status": "completed"
    },
    "tags": []
   },
   "source": [
    "**Split the dataset**"
   ]
  },
  {
   "cell_type": "code",
   "execution_count": 15,
   "id": "121d84f7",
   "metadata": {
    "execution": {
     "iopub.execute_input": "2022-11-30T23:26:01.528002Z",
     "iopub.status.busy": "2022-11-30T23:26:01.526779Z",
     "iopub.status.idle": "2022-11-30T23:26:01.535286Z",
     "shell.execute_reply": "2022-11-30T23:26:01.534034Z"
    },
    "id": "07192aa4",
    "papermill": {
     "duration": 0.025628,
     "end_time": "2022-11-30T23:26:01.538179",
     "exception": false,
     "start_time": "2022-11-30T23:26:01.512551",
     "status": "completed"
    },
    "tags": []
   },
   "outputs": [],
   "source": [
    "X_train, X_test , y_train , y_test = train_test_split(X, y , test_size =0.2 , random_state=0)"
   ]
  },
  {
   "cell_type": "markdown",
   "id": "844eb81e",
   "metadata": {
    "id": "95f0ba96",
    "papermill": {
     "duration": 0.012116,
     "end_time": "2022-11-30T23:26:01.562694",
     "exception": false,
     "start_time": "2022-11-30T23:26:01.550578",
     "status": "completed"
    },
    "tags": []
   },
   "source": [
    "**Feature Scaling**"
   ]
  },
  {
   "cell_type": "code",
   "execution_count": 16,
   "id": "f5b710d5",
   "metadata": {
    "execution": {
     "iopub.execute_input": "2022-11-30T23:26:01.588818Z",
     "iopub.status.busy": "2022-11-30T23:26:01.588351Z",
     "iopub.status.idle": "2022-11-30T23:26:01.601682Z",
     "shell.execute_reply": "2022-11-30T23:26:01.600242Z"
    },
    "id": "6a55804d",
    "papermill": {
     "duration": 0.029873,
     "end_time": "2022-11-30T23:26:01.604507",
     "exception": false,
     "start_time": "2022-11-30T23:26:01.574634",
     "status": "completed"
    },
    "tags": []
   },
   "outputs": [],
   "source": [
    "scalar = StandardScaler()\n",
    "X_train_scalar = scalar.fit_transform(X_train)\n",
    "X_test_scalar = scalar.transform(X_test)"
   ]
  },
  {
   "cell_type": "markdown",
   "id": "a999e43f",
   "metadata": {
    "id": "5a58829f",
    "papermill": {
     "duration": 0.011442,
     "end_time": "2022-11-30T23:26:01.627797",
     "exception": false,
     "start_time": "2022-11-30T23:26:01.616355",
     "status": "completed"
    },
    "tags": []
   },
   "source": [
    "**Linear Regression**"
   ]
  },
  {
   "cell_type": "code",
   "execution_count": 17,
   "id": "2a922400",
   "metadata": {
    "execution": {
     "iopub.execute_input": "2022-11-30T23:26:01.653802Z",
     "iopub.status.busy": "2022-11-30T23:26:01.653070Z",
     "iopub.status.idle": "2022-11-30T23:26:01.679942Z",
     "shell.execute_reply": "2022-11-30T23:26:01.678990Z"
    },
    "id": "b5ec3235",
    "outputId": "0ecdc160-5d78-4707-fdcd-edad4f49d8bc",
    "papermill": {
     "duration": 0.042825,
     "end_time": "2022-11-30T23:26:01.682301",
     "exception": false,
     "start_time": "2022-11-30T23:26:01.639476",
     "status": "completed"
    },
    "tags": []
   },
   "outputs": [
    {
     "data": {
      "text/plain": [
       "LinearRegression()"
      ]
     },
     "execution_count": 17,
     "metadata": {},
     "output_type": "execute_result"
    }
   ],
   "source": [
    "linear = LinearRegression()\n",
    "linear.fit(X_train_scalar, y_train)"
   ]
  },
  {
   "cell_type": "code",
   "execution_count": 18,
   "id": "44fcaf8e",
   "metadata": {
    "execution": {
     "iopub.execute_input": "2022-11-30T23:26:01.709294Z",
     "iopub.status.busy": "2022-11-30T23:26:01.708512Z",
     "iopub.status.idle": "2022-11-30T23:26:01.715462Z",
     "shell.execute_reply": "2022-11-30T23:26:01.714561Z"
    },
    "id": "0b67cbf5",
    "papermill": {
     "duration": 0.023226,
     "end_time": "2022-11-30T23:26:01.717795",
     "exception": false,
     "start_time": "2022-11-30T23:26:01.694569",
     "status": "completed"
    },
    "tags": []
   },
   "outputs": [],
   "source": [
    "y_pred_scalar = linear.predict(X_test_scalar)"
   ]
  },
  {
   "cell_type": "code",
   "execution_count": 19,
   "id": "e8fd5249",
   "metadata": {
    "execution": {
     "iopub.execute_input": "2022-11-30T23:26:01.744578Z",
     "iopub.status.busy": "2022-11-30T23:26:01.743651Z",
     "iopub.status.idle": "2022-11-30T23:26:01.754436Z",
     "shell.execute_reply": "2022-11-30T23:26:01.752739Z"
    },
    "id": "e428120d",
    "outputId": "213b49f7-4128-4af5-9a26-e7ffd89e7c58",
    "papermill": {
     "duration": 0.027155,
     "end_time": "2022-11-30T23:26:01.757093",
     "exception": false,
     "start_time": "2022-11-30T23:26:01.729938",
     "status": "completed"
    },
    "tags": []
   },
   "outputs": [
    {
     "name": "stdout",
     "output_type": "stream",
     "text": [
      "Score: 0.7013\n",
      "\n",
      "Coefficients: [-2.00474346  0.48328624 -0.21572193  1.61039087  0.33934846  2.28836246\n",
      "  0.67797139 -0.41915567 -0.21765964 -0.12681713  0.16102906]\n",
      "\n",
      "mean_absolute_error: 1.9576030227269556\n",
      "\n",
      "R square Error: 0.402282779144549\n",
      "\n",
      "Mean Squared Error: 6.155944476941621\n",
      "\n"
     ]
    }
   ],
   "source": [
    "print(f'Score: {round(linear.score(X_test_scalar,y_test),4)}\\n')\n",
    "print(f'Coefficients: { linear.coef_}\\n')\n",
    "print(f'mean_absolute_error: {metrics.mean_absolute_error(y_pred_scalar, y_test)}\\n')\n",
    "print(f'R square Error: {metrics.r2_score(y_pred_scalar, y_test)}\\n')\n",
    "print(f'Mean Squared Error: {metrics.mean_squared_error(y_pred_scalar, y_test)}\\n')"
   ]
  },
  {
   "cell_type": "markdown",
   "id": "bfd9505e",
   "metadata": {
    "id": "fWhR87LUwxj1",
    "papermill": {
     "duration": 0.011703,
     "end_time": "2022-11-30T23:26:01.781047",
     "exception": false,
     "start_time": "2022-11-30T23:26:01.769344",
     "status": "completed"
    },
    "tags": []
   },
   "source": [
    "**Lasso with GridSearchCV**"
   ]
  },
  {
   "cell_type": "code",
   "execution_count": 20,
   "id": "fc5cdd3f",
   "metadata": {
    "execution": {
     "iopub.execute_input": "2022-11-30T23:26:01.807487Z",
     "iopub.status.busy": "2022-11-30T23:26:01.806765Z",
     "iopub.status.idle": "2022-11-30T23:26:01.911185Z",
     "shell.execute_reply": "2022-11-30T23:26:01.909951Z"
    },
    "id": "ZJb_vxC7wu36",
    "outputId": "e280e796-948b-4706-d2a1-5d2bce234a00",
    "papermill": {
     "duration": 0.120736,
     "end_time": "2022-11-30T23:26:01.913834",
     "exception": false,
     "start_time": "2022-11-30T23:26:01.793098",
     "status": "completed"
    },
    "tags": []
   },
   "outputs": [
    {
     "data": {
      "text/plain": [
       "GridSearchCV(cv=10, estimator=Lasso(),\n",
       "             param_grid={'alpha': [0.1, 0.2, 0.01, 0.001, 0.3]},\n",
       "             scoring='neg_mean_squared_error')"
      ]
     },
     "execution_count": 20,
     "metadata": {},
     "output_type": "execute_result"
    }
   ],
   "source": [
    "lasso_grid = Lasso()\n",
    "parameters = {\n",
    "    'alpha': [0.1 , 0.2, 0.01, 0.001, 0.3]\n",
    "}\n",
    "grid = GridSearchCV(lasso_grid, param_grid=parameters, cv=10, scoring = 'neg_mean_squared_error')\n",
    "grid.fit(X_train_scalar, y_train)"
   ]
  },
  {
   "cell_type": "code",
   "execution_count": 21,
   "id": "6f6286ff",
   "metadata": {
    "execution": {
     "iopub.execute_input": "2022-11-30T23:26:01.940731Z",
     "iopub.status.busy": "2022-11-30T23:26:01.939817Z",
     "iopub.status.idle": "2022-11-30T23:26:01.946874Z",
     "shell.execute_reply": "2022-11-30T23:26:01.945948Z"
    },
    "id": "ONncUV_Wx3Iw",
    "outputId": "4b35d770-9790-4908-ff62-6753bacd3cc4",
    "papermill": {
     "duration": 0.023198,
     "end_time": "2022-11-30T23:26:01.949113",
     "exception": false,
     "start_time": "2022-11-30T23:26:01.925915",
     "status": "completed"
    },
    "tags": []
   },
   "outputs": [
    {
     "data": {
      "text/plain": [
       "({'alpha': 0.1}, -4.751105561668381)"
      ]
     },
     "execution_count": 21,
     "metadata": {},
     "output_type": "execute_result"
    }
   ],
   "source": [
    "grid.best_params_ , grid.best_score_"
   ]
  },
  {
   "cell_type": "code",
   "execution_count": 22,
   "id": "8696c8c2",
   "metadata": {
    "execution": {
     "iopub.execute_input": "2022-11-30T23:26:01.976390Z",
     "iopub.status.busy": "2022-11-30T23:26:01.975406Z",
     "iopub.status.idle": "2022-11-30T23:26:01.983006Z",
     "shell.execute_reply": "2022-11-30T23:26:01.982159Z"
    },
    "id": "12-JW6o1x_mJ",
    "outputId": "2c17f923-3294-4823-fb76-7e0f7a92a751",
    "papermill": {
     "duration": 0.023945,
     "end_time": "2022-11-30T23:26:01.985190",
     "exception": false,
     "start_time": "2022-11-30T23:26:01.961245",
     "status": "completed"
    },
    "tags": []
   },
   "outputs": [
    {
     "data": {
      "text/plain": [
       "Lasso(alpha=0.1)"
      ]
     },
     "execution_count": 22,
     "metadata": {},
     "output_type": "execute_result"
    }
   ],
   "source": [
    "original_lasso = Lasso(alpha=0.1)\n",
    "original_lasso.fit(X_train_scalar, y_train)"
   ]
  },
  {
   "cell_type": "code",
   "execution_count": 23,
   "id": "aeb1f82a",
   "metadata": {
    "execution": {
     "iopub.execute_input": "2022-11-30T23:26:02.012622Z",
     "iopub.status.busy": "2022-11-30T23:26:02.011892Z",
     "iopub.status.idle": "2022-11-30T23:26:02.017440Z",
     "shell.execute_reply": "2022-11-30T23:26:02.016151Z"
    },
    "id": "equIlQjAyLn2",
    "papermill": {
     "duration": 0.022674,
     "end_time": "2022-11-30T23:26:02.020256",
     "exception": false,
     "start_time": "2022-11-30T23:26:01.997582",
     "status": "completed"
    },
    "tags": []
   },
   "outputs": [],
   "source": [
    "y_pred_lasso = original_lasso.predict(X_test_scalar)"
   ]
  },
  {
   "cell_type": "code",
   "execution_count": 24,
   "id": "5caac0bc",
   "metadata": {
    "execution": {
     "iopub.execute_input": "2022-11-30T23:26:02.047310Z",
     "iopub.status.busy": "2022-11-30T23:26:02.046821Z",
     "iopub.status.idle": "2022-11-30T23:26:02.057060Z",
     "shell.execute_reply": "2022-11-30T23:26:02.055895Z"
    },
    "id": "JUINmsIDyUkj",
    "outputId": "9a0fd27f-4c69-429b-a301-180598b78c22",
    "papermill": {
     "duration": 0.026941,
     "end_time": "2022-11-30T23:26:02.059718",
     "exception": false,
     "start_time": "2022-11-30T23:26:02.032777",
     "status": "completed"
    },
    "tags": []
   },
   "outputs": [
    {
     "name": "stdout",
     "output_type": "stream",
     "text": [
      "Score: 0.6871\n",
      "\n",
      "Coefficients: [-1.09736078 -0.         -0.015026    1.53469085  0.19063132  2.21841141\n",
      "  0.58153101 -0.         -0.          0.          0.09707781]\n",
      "\n",
      "mean_absolute_error: 2.0152183582191414\n",
      "\n",
      "R square Error: 0.2573948455527032\n",
      "\n",
      "Mean Squared Error: 6.447898706926726\n",
      "\n"
     ]
    }
   ],
   "source": [
    "print(f'Score: {round(original_lasso.score(X_test_scalar,y_test),4)}\\n')\n",
    "print(f'Coefficients: { original_lasso.coef_}\\n')\n",
    "print(f'mean_absolute_error: {metrics.mean_absolute_error(y_pred_lasso, y_test)}\\n')\n",
    "print(f'R square Error: {metrics.r2_score(y_pred_lasso, y_test)}\\n')\n",
    "print(f'Mean Squared Error: {metrics.mean_squared_error(y_pred_lasso, y_test)}\\n')"
   ]
  },
  {
   "cell_type": "markdown",
   "id": "6ce22366",
   "metadata": {
    "id": "umgYgIC1yrQE",
    "papermill": {
     "duration": 0.011829,
     "end_time": "2022-11-30T23:26:02.083830",
     "exception": false,
     "start_time": "2022-11-30T23:26:02.072001",
     "status": "completed"
    },
    "tags": []
   },
   "source": [
    "**Ridge With GridSearchCV**"
   ]
  },
  {
   "cell_type": "code",
   "execution_count": 25,
   "id": "afc49e5b",
   "metadata": {
    "execution": {
     "iopub.execute_input": "2022-11-30T23:26:02.110618Z",
     "iopub.status.busy": "2022-11-30T23:26:02.110141Z",
     "iopub.status.idle": "2022-11-30T23:26:02.267896Z",
     "shell.execute_reply": "2022-11-30T23:26:02.266733Z"
    },
    "id": "38JhqeMbyq9A",
    "outputId": "1941b334-983a-473b-f2c4-01d0982cdcdb",
    "papermill": {
     "duration": 0.174353,
     "end_time": "2022-11-30T23:26:02.270522",
     "exception": false,
     "start_time": "2022-11-30T23:26:02.096169",
     "status": "completed"
    },
    "tags": []
   },
   "outputs": [
    {
     "data": {
      "text/plain": [
       "GridSearchCV(cv=10, estimator=Ridge(),\n",
       "             param_grid={'alpha': [0.001, 0.01, 0.1, 1.0, 10.0, 20.0, 30.0,\n",
       "                                   40.0]},\n",
       "             scoring='neg_mean_squared_error')"
      ]
     },
     "execution_count": 25,
     "metadata": {},
     "output_type": "execute_result"
    }
   ],
   "source": [
    "ridge_grid = Ridge()\n",
    "\n",
    "parameters = {\n",
    "    'alpha': [0.001, 0.01, 0.1, 1.0, 10.0 , 20.0, 30.0, 40.0]\n",
    "}\n",
    "\n",
    "grid = GridSearchCV(ridge_grid , cv=10, param_grid=parameters, scoring='neg_mean_squared_error')\n",
    "grid.fit(X_train_scalar, y_train)"
   ]
  },
  {
   "cell_type": "code",
   "execution_count": 26,
   "id": "dc31d3c5",
   "metadata": {
    "execution": {
     "iopub.execute_input": "2022-11-30T23:26:02.297122Z",
     "iopub.status.busy": "2022-11-30T23:26:02.296632Z",
     "iopub.status.idle": "2022-11-30T23:26:02.304103Z",
     "shell.execute_reply": "2022-11-30T23:26:02.302880Z"
    },
    "id": "8I7ssjYk1dL7",
    "outputId": "2579324b-7ff7-4a03-e4be-ab61911202a6",
    "papermill": {
     "duration": 0.023977,
     "end_time": "2022-11-30T23:26:02.306785",
     "exception": false,
     "start_time": "2022-11-30T23:26:02.282808",
     "status": "completed"
    },
    "tags": []
   },
   "outputs": [
    {
     "data": {
      "text/plain": [
       "({'alpha': 10.0}, -4.952863328022465)"
      ]
     },
     "execution_count": 26,
     "metadata": {},
     "output_type": "execute_result"
    }
   ],
   "source": [
    "grid.best_params_ , grid.best_score_"
   ]
  },
  {
   "cell_type": "code",
   "execution_count": 27,
   "id": "b89b3143",
   "metadata": {
    "execution": {
     "iopub.execute_input": "2022-11-30T23:26:02.333821Z",
     "iopub.status.busy": "2022-11-30T23:26:02.333295Z",
     "iopub.status.idle": "2022-11-30T23:26:02.342806Z",
     "shell.execute_reply": "2022-11-30T23:26:02.341619Z"
    },
    "id": "7Js7clhR1fgW",
    "outputId": "51119a62-e8a5-4147-ea0f-32f885e0f039",
    "papermill": {
     "duration": 0.0263,
     "end_time": "2022-11-30T23:26:02.345491",
     "exception": false,
     "start_time": "2022-11-30T23:26:02.319191",
     "status": "completed"
    },
    "tags": []
   },
   "outputs": [
    {
     "data": {
      "text/plain": [
       "Ridge(alpha=10)"
      ]
     },
     "execution_count": 27,
     "metadata": {},
     "output_type": "execute_result"
    }
   ],
   "source": [
    "original_ridge = Ridge(alpha=10)\n",
    "original_ridge.fit(X_train_scalar, y_train)"
   ]
  },
  {
   "cell_type": "code",
   "execution_count": 28,
   "id": "5223d109",
   "metadata": {
    "execution": {
     "iopub.execute_input": "2022-11-30T23:26:02.374534Z",
     "iopub.status.busy": "2022-11-30T23:26:02.373226Z",
     "iopub.status.idle": "2022-11-30T23:26:02.379135Z",
     "shell.execute_reply": "2022-11-30T23:26:02.378147Z"
    },
    "id": "yuWfSnNM1psu",
    "papermill": {
     "duration": 0.023112,
     "end_time": "2022-11-30T23:26:02.381500",
     "exception": false,
     "start_time": "2022-11-30T23:26:02.358388",
     "status": "completed"
    },
    "tags": []
   },
   "outputs": [],
   "source": [
    "y_pred_ridge = original_ridge.predict(X_test_scalar)"
   ]
  },
  {
   "cell_type": "code",
   "execution_count": 29,
   "id": "5f5eaf03",
   "metadata": {
    "execution": {
     "iopub.execute_input": "2022-11-30T23:26:02.409047Z",
     "iopub.status.busy": "2022-11-30T23:26:02.408608Z",
     "iopub.status.idle": "2022-11-30T23:26:02.418183Z",
     "shell.execute_reply": "2022-11-30T23:26:02.416655Z"
    },
    "id": "9dKWmJlJ1v9x",
    "outputId": "9e95c881-8a3e-4dcb-a870-2b4b032754a2",
    "papermill": {
     "duration": 0.026913,
     "end_time": "2022-11-30T23:26:02.421158",
     "exception": false,
     "start_time": "2022-11-30T23:26:02.394245",
     "status": "completed"
    },
    "tags": []
   },
   "outputs": [
    {
     "name": "stdout",
     "output_type": "stream",
     "text": [
      "Score: 0.6607\n",
      "\n",
      "Coefficients: [-0.78146428 -0.27305854 -0.1413822   1.30938903  0.34468446  2.00380562\n",
      "  0.69432275 -0.16905323 -0.02134366  0.10893371  0.26756224]\n",
      "\n",
      "mean_absolute_error: 2.1532132779653517\n",
      "\n",
      "R square Error: 0.2254533327308541\n",
      "\n",
      "Mean Squared Error: 6.991721183137279\n",
      "\n"
     ]
    }
   ],
   "source": [
    "print(f'Score: {round(original_ridge.score(X_test_scalar,y_test),4)}\\n')\n",
    "print(f'Coefficients: { original_ridge.coef_}\\n')\n",
    "print(f'mean_absolute_error: {metrics.mean_absolute_error(y_pred_ridge, y_test)}\\n')\n",
    "print(f'R square Error: {metrics.r2_score(y_pred_ridge, y_test)}\\n')\n",
    "print(f'Mean Squared Error: {metrics.mean_squared_error(y_pred_ridge, y_test)}\\n')"
   ]
  }
 ],
 "metadata": {
  "kernelspec": {
   "display_name": "Python 3",
   "language": "python",
   "name": "python3"
  },
  "language_info": {
   "codemirror_mode": {
    "name": "ipython",
    "version": 3
   },
   "file_extension": ".py",
   "mimetype": "text/x-python",
   "name": "python",
   "nbconvert_exporter": "python",
   "pygments_lexer": "ipython3",
   "version": "3.7.12"
  },
  "papermill": {
   "default_parameters": {},
   "duration": 14.156189,
   "end_time": "2022-11-30T23:26:03.258625",
   "environment_variables": {},
   "exception": null,
   "input_path": "__notebook__.ipynb",
   "output_path": "__notebook__.ipynb",
   "parameters": {},
   "start_time": "2022-11-30T23:25:49.102436",
   "version": "2.3.4"
  }
 },
 "nbformat": 4,
 "nbformat_minor": 5
}
