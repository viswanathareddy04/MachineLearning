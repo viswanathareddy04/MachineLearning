#!/usr/bin/env python3
# -*- coding: utf-8 -*-
"""
Created on Wed Nov 30 15:25:53 2022

@author: viswanathareddy
"""


import pandas as pd